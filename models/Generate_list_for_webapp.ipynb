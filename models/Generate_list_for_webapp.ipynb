{
  "cells": [
    {
      "cell_type": "markdown",
      "source": [
        "# Generate list for converting word features to numerical"
      ],
      "metadata": {
        "nteract": {
          "transient": {
            "deleting": false
          }
        }
      }
    },
    {
      "cell_type": "code",
      "source": [
        "import pandas as pd\r\n",
        "import json"
      ],
      "outputs": [],
      "execution_count": 12,
      "metadata": {
        "gather": {
          "logged": 1628425829905
        }
      }
    },
    {
      "cell_type": "code",
      "source": [
        "df1 = pd.read_csv('data/name_developer_publisher_tags/steam_games.csv')"
      ],
      "outputs": [],
      "execution_count": 3,
      "metadata": {
        "collapsed": true,
        "jupyter": {
          "source_hidden": false,
          "outputs_hidden": false
        },
        "nteract": {
          "transient": {
            "deleting": false
          }
        },
        "gather": {
          "logged": 1628425723240
        }
      }
    },
    {
      "cell_type": "markdown",
      "source": [
        "### List of common words in the title"
      ],
      "metadata": {
        "nteract": {
          "transient": {
            "deleting": false
          }
        }
      }
    },
    {
      "cell_type": "code",
      "source": [
        "TITLE_THRESHOLD = 40"
      ],
      "outputs": [],
      "execution_count": 2,
      "metadata": {
        "collapsed": true,
        "jupyter": {
          "source_hidden": false,
          "outputs_hidden": false
        },
        "nteract": {
          "transient": {
            "deleting": false
          }
        },
        "gather": {
          "logged": 1628425721449
        }
      }
    },
    {
      "cell_type": "code",
      "source": [
        "# remove special chars\r\n",
        "def check_chars(value):\r\n",
        "    if value == \" \":\r\n",
        "        return True\r\n",
        "    else:\r\n",
        "        return value.isalpha()\r\n",
        "def remove_special_chars(value):\r\n",
        "    return ''.join(filter(check_chars, str(value)))\r\n",
        "df1['name'] = df1['name'].map(remove_special_chars)"
      ],
      "outputs": [],
      "execution_count": 4,
      "metadata": {
        "collapsed": true,
        "jupyter": {
          "source_hidden": false,
          "outputs_hidden": false
        },
        "nteract": {
          "transient": {
            "deleting": false
          }
        },
        "gather": {
          "logged": 1628425723810
        }
      }
    },
    {
      "cell_type": "code",
      "source": [
        "# create common title word dict\r\n",
        "title_word_dict = {}\r\n",
        "def create_word_dict(value):\r\n",
        "    words = value.split(' ')\r\n",
        "    for word in words:\r\n",
        "        if word not in title_word_dict:\r\n",
        "            title_word_dict[word] = 1\r\n",
        "        else:\r\n",
        "            title_word_dict[word] += 1\r\n",
        "df1['name'].map(create_word_dict)\r\n",
        "common_word_list = []\r\n",
        "for name in title_word_dict:\r\n",
        "    if title_word_dict[name] > TITLE_THRESHOLD:\r\n",
        "        common_word_list.append(name)"
      ],
      "outputs": [],
      "execution_count": 5,
      "metadata": {
        "collapsed": true,
        "jupyter": {
          "source_hidden": false,
          "outputs_hidden": false
        },
        "nteract": {
          "transient": {
            "deleting": false
          }
        },
        "gather": {
          "logged": 1628425724296
        }
      }
    },
    {
      "cell_type": "code",
      "source": [
        "# export list\r\n",
        "with open(\"outputs/common_words.json\", \"w\") as outfile:\r\n",
        "    json.dump(common_word_list, outfile)"
      ],
      "outputs": [],
      "execution_count": 14,
      "metadata": {
        "collapsed": true,
        "jupyter": {
          "source_hidden": false,
          "outputs_hidden": false
        },
        "nteract": {
          "transient": {
            "deleting": false
          }
        },
        "gather": {
          "logged": 1628425889273
        }
      }
    },
    {
      "cell_type": "markdown",
      "source": [
        "### Dictionary of publisher and developer appearance count"
      ],
      "metadata": {
        "nteract": {
          "transient": {
            "deleting": false
          }
        }
      }
    },
    {
      "cell_type": "code",
      "source": [
        "# add dict of publisher & developer appearance count\r\n",
        "publisher_dict = {}\r\n",
        "developer_dict = {}\r\n",
        "def create_pub_dict(value):\r\n",
        "    if value not in publisher_dict:\r\n",
        "        publisher_dict[value] = 1\r\n",
        "    else:\r\n",
        "        publisher_dict[value] += 1\r\n",
        "def create_dev_dict(value):\r\n",
        "    if value not in developer_dict:\r\n",
        "        developer_dict[value] = 1\r\n",
        "    else:\r\n",
        "        developer_dict[value] += 1\r\n",
        "df1['publisher'].map(create_pub_dict)\r\n",
        "df1['developer'].map(create_dev_dict)\r\n",
        "print('done')"
      ],
      "outputs": [
        {
          "output_type": "stream",
          "name": "stdout",
          "text": [
            "done\n"
          ]
        }
      ],
      "execution_count": 6,
      "metadata": {
        "collapsed": true,
        "jupyter": {
          "source_hidden": false,
          "outputs_hidden": false
        },
        "nteract": {
          "transient": {
            "deleting": false
          }
        },
        "gather": {
          "logged": 1628425724814
        }
      }
    },
    {
      "cell_type": "code",
      "source": [
        "# export list\r\n",
        "with open(\"outputs/publisher_dict.json\", \"w\") as outfile:\r\n",
        "    json.dump(publisher_dict, outfile)\r\n",
        "with open(\"outputs/developer_dict.json\", \"w\") as outfile:\r\n",
        "    json.dump(developer_dict, outfile)"
      ],
      "outputs": [],
      "execution_count": 15,
      "metadata": {
        "collapsed": true,
        "jupyter": {
          "source_hidden": false,
          "outputs_hidden": false
        },
        "nteract": {
          "transient": {
            "deleting": false
          }
        },
        "gather": {
          "logged": 1628425971397
        }
      }
    },
    {
      "cell_type": "markdown",
      "source": [
        "### List of common tags"
      ],
      "metadata": {
        "nteract": {
          "transient": {
            "deleting": false
          }
        }
      }
    },
    {
      "cell_type": "code",
      "source": [
        "TAG_THRESHOLD = 20"
      ],
      "outputs": [],
      "execution_count": 7,
      "metadata": {
        "collapsed": true,
        "jupyter": {
          "source_hidden": false,
          "outputs_hidden": false
        },
        "nteract": {
          "transient": {
            "deleting": false
          }
        },
        "gather": {
          "logged": 1628425725265
        }
      }
    },
    {
      "cell_type": "code",
      "source": [
        "# create common tag dict\r\n",
        "tag_dict = {}\r\n",
        "def create_tag_dict(value):\r\n",
        "    words = str(value).split(',')\r\n",
        "    for word in words:\r\n",
        "        if word not in tag_dict:\r\n",
        "            tag_dict[word] = 1\r\n",
        "        else:\r\n",
        "            tag_dict[word] += 1\r\n",
        "df1['popular_tags'].map(create_tag_dict)\r\n",
        "common_tag_list = []\r\n",
        "for name in tag_dict:\r\n",
        "    if tag_dict[name] > TAG_THRESHOLD:\r\n",
        "        common_tag_list.append(name)"
      ],
      "outputs": [],
      "execution_count": 8,
      "metadata": {
        "collapsed": true,
        "jupyter": {
          "source_hidden": false,
          "outputs_hidden": false
        },
        "nteract": {
          "transient": {
            "deleting": false
          }
        },
        "gather": {
          "logged": 1628425725755
        }
      }
    },
    {
      "cell_type": "code",
      "source": [
        "# export list\r\n",
        "with open(\"outputs/common_tags.json\", \"w\") as outfile:\r\n",
        "    json.dump(common_tag_list, outfile)"
      ],
      "outputs": [],
      "execution_count": 16,
      "metadata": {
        "collapsed": true,
        "jupyter": {
          "source_hidden": false,
          "outputs_hidden": false
        },
        "nteract": {
          "transient": {
            "deleting": false
          }
        },
        "gather": {
          "logged": 1628426134977
        }
      }
    },
    {
      "cell_type": "code",
      "source": [
        "df2 = pd.read_csv('data/name_genres_platforms/games.csv')"
      ],
      "outputs": [],
      "execution_count": 9,
      "metadata": {
        "collapsed": true,
        "jupyter": {
          "source_hidden": false,
          "outputs_hidden": false
        },
        "nteract": {
          "transient": {
            "deleting": false
          }
        },
        "gather": {
          "logged": 1628425726386
        }
      }
    },
    {
      "cell_type": "markdown",
      "source": [
        "### List of common genres"
      ],
      "metadata": {
        "nteract": {
          "transient": {
            "deleting": false
          }
        }
      }
    },
    {
      "cell_type": "code",
      "source": [
        "GENRE_THRESHOLD = 10"
      ],
      "outputs": [],
      "execution_count": 10,
      "metadata": {
        "collapsed": true,
        "jupyter": {
          "source_hidden": false,
          "outputs_hidden": false
        },
        "nteract": {
          "transient": {
            "deleting": false
          }
        },
        "gather": {
          "logged": 1628425726828
        }
      }
    },
    {
      "cell_type": "code",
      "source": [
        "# create common genre dict\r\n",
        "genre_dict = {}\r\n",
        "def create_genre_dict(value):\r\n",
        "    words = str(value).split(',')\r\n",
        "    for word in words:\r\n",
        "        if word not in genre_dict:\r\n",
        "            genre_dict[word] = 1\r\n",
        "        else:\r\n",
        "            genre_dict[word] += 1\r\n",
        "df2['Genres'].map(create_genre_dict)\r\n",
        "common_genre_list = []\r\n",
        "for name in genre_dict:\r\n",
        "    if genre_dict[name] > GENRE_THRESHOLD:\r\n",
        "        common_genre_list.append(name)"
      ],
      "outputs": [],
      "execution_count": 11,
      "metadata": {
        "collapsed": true,
        "jupyter": {
          "source_hidden": false,
          "outputs_hidden": false
        },
        "nteract": {
          "transient": {
            "deleting": false
          }
        },
        "gather": {
          "logged": 1628425727195
        }
      }
    },
    {
      "cell_type": "code",
      "source": [
        "# export list\r\n",
        "with open(\"outputs/common_genres.json\", \"w\") as outfile:\r\n",
        "    json.dump(common_genre_list, outfile)"
      ],
      "outputs": [],
      "execution_count": 17,
      "metadata": {
        "collapsed": true,
        "jupyter": {
          "source_hidden": false,
          "outputs_hidden": false
        },
        "nteract": {
          "transient": {
            "deleting": false
          }
        },
        "gather": {
          "logged": 1628426191505
        }
      }
    }
  ],
  "metadata": {
    "kernelspec": {
      "name": "python3-azureml",
      "language": "python",
      "display_name": "Python 3.6 - AzureML"
    },
    "language_info": {
      "name": "python",
      "version": "3.6.9",
      "mimetype": "text/x-python",
      "codemirror_mode": {
        "name": "ipython",
        "version": 3
      },
      "pygments_lexer": "ipython3",
      "nbconvert_exporter": "python",
      "file_extension": ".py"
    },
    "kernel_info": {
      "name": "python3-azureml"
    },
    "microsoft": {
      "host": {
        "AzureML": {
          "notebookHasBeenCompleted": true
        }
      }
    },
    "nteract": {
      "version": "nteract-front-end@1.0.0"
    }
  },
  "nbformat": 4,
  "nbformat_minor": 2
}