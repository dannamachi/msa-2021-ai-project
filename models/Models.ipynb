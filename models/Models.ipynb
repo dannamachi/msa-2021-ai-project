{
  "cells": [
    {
      "cell_type": "markdown",
      "source": [
        "# Model training, evaluation & exporting"
      ],
      "metadata": {
        "nteract": {
          "transient": {
            "deleting": false
          }
        }
      }
    },
    {
      "cell_type": "code",
      "source": [
        "import pandas as pd\r\n",
        "import numpy as np\r\n",
        "import matplotlib.pyplot as plt\r\n",
        "import seaborn as sns\r\n",
        "import joblib\r\n",
        "import os\r\n",
        "from sklearn.model_selection import train_test_split\r\n",
        "from sklearn.linear_model import LinearRegression, Ridge, Lasso, Lars, LassoLars, BayesianRidge\r\n",
        "from sklearn.neural_network import MLPRegressor\r\n",
        "from sklearn.preprocessing import PolynomialFeatures\r\n",
        "from sklearn import svm, neighbors, tree"
      ],
      "outputs": [],
      "execution_count": 159,
      "metadata": {
        "gather": {
          "logged": 1628440619537
        }
      }
    },
    {
      "cell_type": "code",
      "source": [
        "df = pd.read_csv('outputs/main_dataset.csv')"
      ],
      "outputs": [],
      "execution_count": 160,
      "metadata": {
        "collapsed": true,
        "jupyter": {
          "source_hidden": false,
          "outputs_hidden": false
        },
        "nteract": {
          "transient": {
            "deleting": false
          }
        },
        "gather": {
          "logged": 1628440621275
        }
      }
    },
    {
      "cell_type": "code",
      "source": [
        "# split data\r\n",
        "x_df = df.drop(['avg','Unnamed: 0'],axis=1)\r\n",
        "y_df = df['avg']\r\n",
        "x_train, x_test, y_train, y_test = train_test_split(x_df, y_df, test_size=0.33, random_state=42)"
      ],
      "outputs": [],
      "execution_count": 161,
      "metadata": {
        "collapsed": true,
        "jupyter": {
          "source_hidden": false,
          "outputs_hidden": false
        },
        "nteract": {
          "transient": {
            "deleting": false
          }
        },
        "gather": {
          "logged": 1628440623756
        }
      }
    },
    {
      "cell_type": "markdown",
      "source": [
        "## Experiment with different regression models"
      ],
      "metadata": {
        "nteract": {
          "transient": {
            "deleting": false
          }
        }
      }
    },
    {
      "cell_type": "markdown",
      "source": [
        "### Linear Regression"
      ],
      "metadata": {
        "nteract": {
          "transient": {
            "deleting": false
          }
        }
      }
    },
    {
      "cell_type": "code",
      "source": [
        "reg = LinearRegression().fit(x_train, y_train)"
      ],
      "outputs": [],
      "execution_count": 162,
      "metadata": {
        "collapsed": true,
        "jupyter": {
          "source_hidden": false,
          "outputs_hidden": false
        },
        "nteract": {
          "transient": {
            "deleting": false
          }
        },
        "gather": {
          "logged": 1628440626759
        }
      }
    },
    {
      "cell_type": "code",
      "source": [
        "# test custom prediction\r\n",
        "test_data = {'gamename':  [5],\r\n",
        "        'publisher': [10],\r\n",
        "         'developer': [3],\r\n",
        "         'tag_common': [20],\r\n",
        "         'multi': [1],\r\n",
        "         'genre_common': [15],\r\n",
        "         'plat_count': [2],\r\n",
        "        }\r\n",
        "\r\n",
        "test_df = pd.DataFrame (test_data, columns = ['gamename','publisher','developer','tag_common','multi','genre_common','plat_count'])\r\n",
        "test_predict = reg.predict(test_df)"
      ],
      "outputs": [],
      "execution_count": 163,
      "metadata": {
        "collapsed": true,
        "jupyter": {
          "source_hidden": false,
          "outputs_hidden": false
        },
        "nteract": {
          "transient": {
            "deleting": false
          }
        },
        "gather": {
          "logged": 1628440628177
        }
      }
    },
    {
      "cell_type": "code",
      "source": [
        "score = reg.score(x_test, y_test)"
      ],
      "outputs": [],
      "execution_count": 164,
      "metadata": {
        "collapsed": true,
        "jupyter": {
          "source_hidden": false,
          "outputs_hidden": false
        },
        "nteract": {
          "transient": {
            "deleting": false
          }
        },
        "gather": {
          "logged": 1628440631831
        }
      }
    },
    {
      "cell_type": "code",
      "source": [
        "# # plot result of linear regression model\r\n",
        "# plt.scatter(x_df.publisher, y_df, color='red')\r\n",
        "# sns.regplot(x_df.publisher, reg.predict(x_df))\r\n",
        "# # plt.scatter(x_df['publisher'] , reg.predict(x_df), color='blue')\r\n",
        "# plt.title('Average no. players predicted to play the game (Linear Regression)')\r\n",
        "# plt.xlabel('Number of games published by the publisher')\r\n",
        "# plt.ylabel('Average no. players')\r\n",
        "# plt.show()"
      ],
      "outputs": [],
      "execution_count": 165,
      "metadata": {
        "collapsed": true,
        "jupyter": {
          "source_hidden": false,
          "outputs_hidden": false
        },
        "nteract": {
          "transient": {
            "deleting": false
          }
        },
        "gather": {
          "logged": 1628440633385
        }
      }
    },
    {
      "cell_type": "markdown",
      "source": [
        "### Polynomial Regression"
      ],
      "metadata": {
        "nteract": {
          "transient": {
            "deleting": false
          }
        }
      }
    },
    {
      "cell_type": "code",
      "source": [
        "# fitting the polynomial regression model to the dataset\r\n",
        "poly_reg = PolynomialFeatures(degree=2)\r\n",
        "x_poly = poly_reg.fit_transform(x_train)\r\n",
        "poly_reg.fit(x_poly,y_train)\r\n",
        "lin_reg2 = LinearRegression()\r\n",
        "poreg = lin_reg2.fit(x_poly,y_train)"
      ],
      "outputs": [],
      "execution_count": 166,
      "metadata": {
        "collapsed": true,
        "jupyter": {
          "source_hidden": false,
          "outputs_hidden": false
        },
        "nteract": {
          "transient": {
            "deleting": false
          }
        },
        "gather": {
          "logged": 1628440635874
        }
      }
    },
    {
      "cell_type": "code",
      "source": [
        "score = poreg.score(poly_reg.fit_transform(x_test), y_test)"
      ],
      "outputs": [],
      "execution_count": 167,
      "metadata": {
        "collapsed": true,
        "jupyter": {
          "source_hidden": false,
          "outputs_hidden": false
        },
        "nteract": {
          "transient": {
            "deleting": false
          }
        },
        "gather": {
          "logged": 1628440637899
        }
      }
    },
    {
      "cell_type": "code",
      "source": [
        "# # view result of poly regression model\r\n",
        "# plt.scatter(x_df.developer, y_df, color='red')\r\n",
        "# sns.regplot(x_df.publisher, poreg.predict(poly_reg.fit_transform(x_df)))\r\n",
        "# # plt.plot(x_df.publisher, lin_reg2.predict(poly_reg.fit_transform(x_df)), color='blue')\r\n",
        "# plt.title('Average no. players predicted to play the game (Polynomial Regression)')\r\n",
        "# plt.xlabel('Number of games published by the publisher')\r\n",
        "# plt.ylabel('Average no. players')\r\n",
        "# plt.show()\r\n"
      ],
      "outputs": [],
      "execution_count": 168,
      "metadata": {
        "collapsed": true,
        "jupyter": {
          "source_hidden": false,
          "outputs_hidden": false
        },
        "nteract": {
          "transient": {
            "deleting": false
          }
        },
        "gather": {
          "logged": 1628440639232
        }
      }
    },
    {
      "cell_type": "markdown",
      "source": [
        "### Ridge Regression"
      ],
      "metadata": {
        "nteract": {
          "transient": {
            "deleting": false
          }
        }
      }
    },
    {
      "cell_type": "code",
      "source": [
        "ridge = Ridge(alpha=1.0).fit(x_train, y_train)"
      ],
      "outputs": [],
      "execution_count": 169,
      "metadata": {
        "collapsed": true,
        "jupyter": {
          "source_hidden": false,
          "outputs_hidden": false
        },
        "nteract": {
          "transient": {
            "deleting": false
          }
        },
        "gather": {
          "logged": 1628440640713
        }
      }
    },
    {
      "cell_type": "code",
      "source": [
        "score = ridge.score(x_test, y_test)"
      ],
      "outputs": [],
      "execution_count": 170,
      "metadata": {
        "collapsed": true,
        "jupyter": {
          "source_hidden": false,
          "outputs_hidden": false
        },
        "nteract": {
          "transient": {
            "deleting": false
          }
        },
        "gather": {
          "logged": 1628440642142
        }
      }
    },
    {
      "cell_type": "code",
      "source": [
        "# # plot result of ridge model\r\n",
        "# plt.scatter(x_df.publisher, y_df, color='red')\r\n",
        "# sns.regplot(x_df.publisher, ridge.predict(x_df))\r\n",
        "# # plt.scatter(x_df['publisher'] , reg.predict(x_df), color='blue')\r\n",
        "# plt.title('Average no. players predicted to play the game (Ridge)')\r\n",
        "# plt.xlabel('Number of games published by the publisher')\r\n",
        "# plt.ylabel('Average no. players')\r\n",
        "# plt.show()"
      ],
      "outputs": [],
      "execution_count": 171,
      "metadata": {
        "collapsed": true,
        "jupyter": {
          "source_hidden": false,
          "outputs_hidden": false
        },
        "nteract": {
          "transient": {
            "deleting": false
          }
        },
        "gather": {
          "logged": 1628440644163
        }
      }
    },
    {
      "cell_type": "markdown",
      "source": [
        "### Lasso"
      ],
      "metadata": {
        "nteract": {
          "transient": {
            "deleting": false
          }
        }
      }
    },
    {
      "cell_type": "code",
      "source": [
        "lasso = Lasso(alpha=0.1).fit(x_train, y_train)"
      ],
      "outputs": [],
      "execution_count": 172,
      "metadata": {
        "collapsed": true,
        "jupyter": {
          "source_hidden": false,
          "outputs_hidden": false
        },
        "nteract": {
          "transient": {
            "deleting": false
          }
        },
        "gather": {
          "logged": 1628440646805
        }
      }
    },
    {
      "cell_type": "code",
      "source": [
        "score = lasso.score(x_test, y_test)"
      ],
      "outputs": [
        {
          "output_type": "execute_result",
          "execution_count": 173,
          "data": {
            "text/plain": "-0.0020072349232092"
          },
          "metadata": {}
        }
      ],
      "execution_count": 173,
      "metadata": {
        "collapsed": true,
        "jupyter": {
          "source_hidden": false,
          "outputs_hidden": false
        },
        "nteract": {
          "transient": {
            "deleting": false
          }
        },
        "gather": {
          "logged": 1628440649078
        }
      }
    },
    {
      "cell_type": "code",
      "source": [
        "# # plot result of lasso model\r\n",
        "# plt.scatter(x_df.publisher, y_df, color='red')\r\n",
        "# sns.regplot(x_df.publisher, lasso.predict(x_df))\r\n",
        "# # plt.scatter(x_df['publisher'] , lasso.predict(x_df), color='blue')\r\n",
        "# plt.title('Average no. players predicted to play the game (Lasso)')\r\n",
        "# plt.xlabel('Number of games published by the publisher')\r\n",
        "# plt.ylabel('Average no. players')\r\n",
        "# plt.show()"
      ],
      "outputs": [],
      "execution_count": 174,
      "metadata": {
        "collapsed": true,
        "jupyter": {
          "source_hidden": false,
          "outputs_hidden": false
        },
        "nteract": {
          "transient": {
            "deleting": false
          }
        },
        "gather": {
          "logged": 1628440650666
        }
      }
    },
    {
      "cell_type": "markdown",
      "source": [
        "### Lars"
      ],
      "metadata": {
        "nteract": {
          "transient": {
            "deleting": false
          }
        }
      }
    },
    {
      "cell_type": "code",
      "source": [
        "lars = Lars(n_nonzero_coefs=1).fit(x_train, y_train)"
      ],
      "outputs": [],
      "execution_count": 175,
      "metadata": {
        "collapsed": true,
        "jupyter": {
          "source_hidden": false,
          "outputs_hidden": false
        },
        "nteract": {
          "transient": {
            "deleting": false
          }
        },
        "gather": {
          "logged": 1628440652033
        }
      }
    },
    {
      "cell_type": "code",
      "source": [
        "score = lars.score(x_test, y_test)"
      ],
      "outputs": [],
      "execution_count": 176,
      "metadata": {
        "collapsed": true,
        "jupyter": {
          "source_hidden": false,
          "outputs_hidden": false
        },
        "nteract": {
          "transient": {
            "deleting": false
          }
        },
        "gather": {
          "logged": 1628440653460
        }
      }
    },
    {
      "cell_type": "code",
      "source": [
        "# # plot result of lars model\r\n",
        "# plt.scatter(x_df.publisher, y_df, color='red', s=1)\r\n",
        "# sns.regplot(x_df.publisher, lars.predict(x_df), scatter_kws={'s':1})\r\n",
        "# # plt.scatter(x_df['publisher'] , reg.predict(x_df), color='blue')\r\n",
        "# plt.title('Average no. players predicted to play the game (Lars)')\r\n",
        "# plt.xlabel('Number of games published by the publisher')\r\n",
        "# plt.ylabel('Average no. players')\r\n",
        "# plt.show()"
      ],
      "outputs": [],
      "execution_count": 177,
      "metadata": {
        "collapsed": true,
        "jupyter": {
          "source_hidden": false,
          "outputs_hidden": false
        },
        "nteract": {
          "transient": {
            "deleting": false
          }
        },
        "gather": {
          "logged": 1628440657451
        }
      }
    },
    {
      "cell_type": "markdown",
      "source": [
        "### LassoLars"
      ],
      "metadata": {
        "nteract": {
          "transient": {
            "deleting": false
          }
        }
      }
    },
    {
      "cell_type": "code",
      "source": [
        "larso = LassoLars(alpha=0.1).fit(x_train, y_train)"
      ],
      "outputs": [],
      "execution_count": 178,
      "metadata": {
        "collapsed": true,
        "jupyter": {
          "source_hidden": false,
          "outputs_hidden": false
        },
        "nteract": {
          "transient": {
            "deleting": false
          }
        },
        "gather": {
          "logged": 1628440659961
        }
      }
    },
    {
      "cell_type": "code",
      "source": [
        "score = larso.score(x_test, y_test)"
      ],
      "outputs": [],
      "execution_count": 179,
      "metadata": {
        "collapsed": true,
        "jupyter": {
          "source_hidden": false,
          "outputs_hidden": false
        },
        "nteract": {
          "transient": {
            "deleting": false
          }
        },
        "gather": {
          "logged": 1628440663112
        }
      }
    },
    {
      "cell_type": "code",
      "source": [
        "# # plot result of lassolars model\r\n",
        "# plt.scatter(x_df.publisher, y_df, color='red')\r\n",
        "# sns.regplot(x_df.publisher, larso.predict(x_df))\r\n",
        "# # plt.scatter(x_df['publisher'] , reg.predict(x_df), color='blue')\r\n",
        "# plt.title('Average no. players predicted to play the game (LassoLars)')\r\n",
        "# plt.xlabel('Number of games published by the publisher')\r\n",
        "# plt.ylabel('Average no. players')\r\n",
        "# plt.show()"
      ],
      "outputs": [],
      "execution_count": 180,
      "metadata": {
        "collapsed": true,
        "jupyter": {
          "source_hidden": false,
          "outputs_hidden": false
        },
        "nteract": {
          "transient": {
            "deleting": false
          }
        },
        "gather": {
          "logged": 1628440664177
        }
      }
    },
    {
      "cell_type": "markdown",
      "source": [
        "### Bayesian Ridge"
      ],
      "metadata": {
        "nteract": {
          "transient": {
            "deleting": false
          }
        }
      }
    },
    {
      "cell_type": "code",
      "source": [
        "bridge = BayesianRidge().fit(x_train, y_train)"
      ],
      "outputs": [],
      "execution_count": 181,
      "metadata": {
        "collapsed": true,
        "jupyter": {
          "source_hidden": false,
          "outputs_hidden": false
        },
        "nteract": {
          "transient": {
            "deleting": false
          }
        },
        "gather": {
          "logged": 1628440665173
        }
      }
    },
    {
      "cell_type": "code",
      "source": [
        "score = bridge.score(x_test, y_test)"
      ],
      "outputs": [],
      "execution_count": 182,
      "metadata": {
        "collapsed": true,
        "jupyter": {
          "source_hidden": false,
          "outputs_hidden": false
        },
        "nteract": {
          "transient": {
            "deleting": false
          }
        },
        "gather": {
          "logged": 1628440666960
        }
      }
    },
    {
      "cell_type": "code",
      "source": [
        "# # plot result of bayesian ridge model\r\n",
        "# plt.scatter(x_df.publisher, y_df, color='red')\r\n",
        "# sns.regplot(x_df.publisher, bridge.predict(x_df))\r\n",
        "# # plt.scatter(x_df['publisher'] , reg.predict(x_df), color='blue')\r\n",
        "# plt.title('Average no. players predicted to play the game (Bayesian Ridge)')\r\n",
        "# plt.xlabel('Number of games published by the publisher')\r\n",
        "# plt.ylabel('Average no. players')\r\n",
        "# plt.show()"
      ],
      "outputs": [],
      "execution_count": 183,
      "metadata": {
        "collapsed": true,
        "jupyter": {
          "source_hidden": false,
          "outputs_hidden": false
        },
        "nteract": {
          "transient": {
            "deleting": false
          }
        },
        "gather": {
          "logged": 1628440668694
        }
      }
    },
    {
      "cell_type": "markdown",
      "source": [
        "### Support Vector Regression"
      ],
      "metadata": {
        "nteract": {
          "transient": {
            "deleting": false
          }
        }
      }
    },
    {
      "cell_type": "code",
      "source": [
        "vegr = svm.SVR().fit(x_train, y_train)"
      ],
      "outputs": [],
      "execution_count": 184,
      "metadata": {
        "collapsed": true,
        "jupyter": {
          "source_hidden": false,
          "outputs_hidden": false
        },
        "nteract": {
          "transient": {
            "deleting": false
          }
        },
        "gather": {
          "logged": 1628440671253
        }
      }
    },
    {
      "cell_type": "code",
      "source": [
        "score = vegr.score(x_test, y_test)"
      ],
      "outputs": [],
      "execution_count": 185,
      "metadata": {
        "collapsed": true,
        "jupyter": {
          "source_hidden": false,
          "outputs_hidden": false
        },
        "nteract": {
          "transient": {
            "deleting": false
          }
        },
        "gather": {
          "logged": 1628440674549
        }
      }
    },
    {
      "cell_type": "code",
      "source": [
        "# # plot result of SVR model\r\n",
        "# plt.scatter(x_df.publisher, y_df, color='red')\r\n",
        "# sns.regplot(x_df.publisher, vegr.predict(x_df))\r\n",
        "# # plt.scatter(x_df['publisher'] , reg.predict(x_df), color='blue')\r\n",
        "# plt.title('Average no. players predicted to play the game (SVR)')\r\n",
        "# plt.xlabel('Number of games published by the publisher')\r\n",
        "# plt.ylabel('Average no. players')\r\n",
        "# plt.show()"
      ],
      "outputs": [],
      "execution_count": 186,
      "metadata": {
        "collapsed": true,
        "jupyter": {
          "source_hidden": false,
          "outputs_hidden": false
        },
        "nteract": {
          "transient": {
            "deleting": false
          }
        },
        "gather": {
          "logged": 1628440675922
        }
      }
    },
    {
      "cell_type": "markdown",
      "source": [
        "### Nearest Neighbors"
      ],
      "metadata": {
        "nteract": {
          "transient": {
            "deleting": false
          }
        }
      }
    },
    {
      "cell_type": "code",
      "source": [
        "knn = neighbors.KNeighborsRegressor(5, weights='distance').fit(x_train, y_train)"
      ],
      "outputs": [],
      "execution_count": 187,
      "metadata": {
        "collapsed": true,
        "jupyter": {
          "source_hidden": false,
          "outputs_hidden": false
        },
        "nteract": {
          "transient": {
            "deleting": false
          }
        },
        "gather": {
          "logged": 1628440677396
        }
      }
    },
    {
      "cell_type": "code",
      "source": [
        "score = knn.score(x_test, y_test)"
      ],
      "outputs": [
        {
          "output_type": "execute_result",
          "execution_count": 188,
          "data": {
            "text/plain": "0.12876929149896832"
          },
          "metadata": {}
        }
      ],
      "execution_count": 188,
      "metadata": {
        "collapsed": true,
        "jupyter": {
          "source_hidden": false,
          "outputs_hidden": false
        },
        "nteract": {
          "transient": {
            "deleting": false
          }
        },
        "gather": {
          "logged": 1628440679390
        }
      }
    },
    {
      "cell_type": "code",
      "source": [
        "# # plot result of nearest neighbors model\r\n",
        "# plt.scatter(x_df.publisher, y_df, color='red', s=1)\r\n",
        "# sns.regplot(x_df.publisher, knn.predict(x_df), scatter_kws={'s':1})\r\n",
        "# # plt.scatter(x_df['publisher'] , reg.predict(x_df), color='blue')\r\n",
        "# plt.title('Average no. players predicted to play the game (Nearest Neighbors)')\r\n",
        "# plt.xlabel('Number of games published by the publisher')\r\n",
        "# plt.ylabel('Average no. players')\r\n",
        "# plt.show()"
      ],
      "outputs": [],
      "execution_count": 189,
      "metadata": {
        "collapsed": true,
        "jupyter": {
          "source_hidden": false,
          "outputs_hidden": false
        },
        "nteract": {
          "transient": {
            "deleting": false
          }
        },
        "gather": {
          "logged": 1628440684889
        }
      }
    },
    {
      "cell_type": "markdown",
      "source": [
        "### Decision Tree"
      ],
      "metadata": {
        "nteract": {
          "transient": {
            "deleting": false
          }
        }
      }
    },
    {
      "cell_type": "code",
      "source": [
        "treel = tree.DecisionTreeRegressor().fit(x_train, y_train)"
      ],
      "outputs": [],
      "execution_count": 190,
      "metadata": {
        "collapsed": true,
        "jupyter": {
          "source_hidden": false,
          "outputs_hidden": false
        },
        "nteract": {
          "transient": {
            "deleting": false
          }
        },
        "gather": {
          "logged": 1628440688826
        }
      }
    },
    {
      "cell_type": "code",
      "source": [
        "score = treel.score(x_test, y_test)"
      ],
      "outputs": [
        {
          "output_type": "execute_result",
          "execution_count": 191,
          "data": {
            "text/plain": "-2.0471544903983747"
          },
          "metadata": {}
        }
      ],
      "execution_count": 191,
      "metadata": {
        "collapsed": true,
        "jupyter": {
          "source_hidden": false,
          "outputs_hidden": false
        },
        "nteract": {
          "transient": {
            "deleting": false
          }
        },
        "gather": {
          "logged": 1628440691930
        }
      }
    },
    {
      "cell_type": "code",
      "source": [
        "# # plot result of decision tree model\r\n",
        "# plt.scatter(x_df.publisher, y_df, color='red', s=1)\r\n",
        "# sns.regplot(x_df.publisher, treel.predict(x_df), scatter_kws={'s':1})\r\n",
        "# # plt.scatter(x_df['publisher'] , reg.predict(x_df), color='blue')\r\n",
        "# plt.title('Average no. players predicted to play the game (Decision Tree)')\r\n",
        "# plt.xlabel('Number of games published by the publisher')\r\n",
        "# plt.ylabel('Average no. players')\r\n",
        "# plt.show()"
      ],
      "outputs": [],
      "execution_count": 192,
      "metadata": {
        "collapsed": true,
        "jupyter": {
          "source_hidden": false,
          "outputs_hidden": false
        },
        "nteract": {
          "transient": {
            "deleting": false
          }
        },
        "gather": {
          "logged": 1628440694349
        }
      }
    },
    {
      "cell_type": "markdown",
      "source": [
        "### MultiLayer Perceptron "
      ],
      "metadata": {
        "nteract": {
          "transient": {
            "deleting": false
          }
        }
      }
    },
    {
      "cell_type": "code",
      "source": [
        "mlpr = MLPRegressor(random_state=123, max_iter=500).fit(x_train, y_train)"
      ],
      "outputs": [
        {
          "output_type": "stream",
          "name": "stderr",
          "text": [
            "/anaconda/envs/azureml_py36/lib/python3.6/site-packages/sklearn/neural_network/_multilayer_perceptron.py:571: ConvergenceWarning: Stochastic Optimizer: Maximum iterations (500) reached and the optimization hasn't converged yet.\n",
            "  % self.max_iter, ConvergenceWarning)\n"
          ]
        }
      ],
      "execution_count": 193,
      "metadata": {
        "collapsed": true,
        "jupyter": {
          "source_hidden": false,
          "outputs_hidden": false
        },
        "nteract": {
          "transient": {
            "deleting": false
          }
        },
        "gather": {
          "logged": 1628440697140
        }
      }
    },
    {
      "cell_type": "code",
      "source": [
        "score = mlpr.score(x_test, y_test)"
      ],
      "outputs": [],
      "execution_count": 194,
      "metadata": {
        "collapsed": true,
        "jupyter": {
          "source_hidden": false,
          "outputs_hidden": false
        },
        "nteract": {
          "transient": {
            "deleting": false
          }
        },
        "gather": {
          "logged": 1628440698245
        }
      }
    },
    {
      "cell_type": "code",
      "source": [
        "# # plot result of MLPR model\r\n",
        "# plt.scatter(x_df.publisher, y_df, color='red', s=1)\r\n",
        "# sns.regplot(x_df.publisher, mlpr.predict(x_df), scatter_kws={'s':1})\r\n",
        "# # plt.scatter(x_df['publisher'] , reg.predict(x_df), color='blue')\r\n",
        "# plt.title('Average no. players predicted to play the game (MLPR)')\r\n",
        "# plt.xlabel('Number of games published by the publisher')\r\n",
        "# plt.ylabel('Average no. players')\r\n",
        "# plt.show()"
      ],
      "outputs": [],
      "execution_count": 195,
      "metadata": {
        "collapsed": true,
        "jupyter": {
          "source_hidden": false,
          "outputs_hidden": false
        },
        "nteract": {
          "transient": {
            "deleting": false
          }
        },
        "gather": {
          "logged": 1628440700664
        }
      }
    },
    {
      "cell_type": "markdown",
      "source": [
        "## Export model to deploy\r\n",
        "Based on R2 score, Lars model performs the best"
      ],
      "metadata": {
        "nteract": {
          "transient": {
            "deleting": false
          }
        }
      }
    },
    {
      "cell_type": "code",
      "source": [
        "# export model as pkl file\r\n",
        "joblib.dump(value=lars, filename=\"outputs/reg_model.pkl\")"
      ],
      "outputs": [
        {
          "output_type": "execute_result",
          "execution_count": 196,
          "data": {
            "text/plain": "['outputs/reg_model.pkl']"
          },
          "metadata": {}
        }
      ],
      "execution_count": 196,
      "metadata": {
        "collapsed": true,
        "jupyter": {
          "source_hidden": false,
          "outputs_hidden": false
        },
        "nteract": {
          "transient": {
            "deleting": false
          }
        },
        "gather": {
          "logged": 1628440702764
        }
      }
    }
  ],
  "metadata": {
    "kernelspec": {
      "name": "python3-azureml",
      "language": "python",
      "display_name": "Python 3.6 - AzureML"
    },
    "language_info": {
      "name": "python",
      "version": "3.6.9",
      "mimetype": "text/x-python",
      "codemirror_mode": {
        "name": "ipython",
        "version": 3
      },
      "pygments_lexer": "ipython3",
      "nbconvert_exporter": "python",
      "file_extension": ".py"
    },
    "kernel_info": {
      "name": "python3-azureml"
    },
    "microsoft": {
      "host": {
        "AzureML": {
          "notebookHasBeenCompleted": true
        }
      }
    },
    "nteract": {
      "version": "nteract-front-end@1.0.0"
    }
  },
  "nbformat": 4,
  "nbformat_minor": 2
}