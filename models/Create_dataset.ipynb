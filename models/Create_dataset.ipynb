{
  "cells": [
    {
      "cell_type": "markdown",
      "source": [
        "# Creation of Main Dataset\r\n",
        "## Features:\r\n",
        "* No. common title words matched\r\n",
        "* Fame of publisher\r\n",
        "* Fame of developer\r\n",
        "* Number of platforms supported\r\n",
        "* Multiplayer or not\r\n",
        "* No. common genres matched\r\n",
        "* No. common tags matched\r\n",
        "## Predicting:\r\n",
        "* Average number of concurrent players"
      ],
      "metadata": {
        "nteract": {
          "transient": {
            "deleting": false
          }
        }
      }
    },
    {
      "cell_type": "code",
      "source": [
        "import pandas as pd\r\n",
        "import numpy as np\r\n",
        "import matplotlib.pyplot as plt\r\n",
        "import json"
      ],
      "outputs": [],
      "execution_count": 79,
      "metadata": {
        "gather": {
          "logged": 1628431096615
        }
      }
    },
    {
      "cell_type": "markdown",
      "source": [
        "## Data preprocessing"
      ],
      "metadata": {
        "nteract": {
          "transient": {
            "deleting": false
          }
        }
      }
    },
    {
      "cell_type": "code",
      "source": [
        "df1 = pd.read_csv('data/name_developer_publisher_tags/steam_games.csv')"
      ],
      "outputs": [],
      "execution_count": 43,
      "metadata": {
        "collapsed": true,
        "jupyter": {
          "source_hidden": false,
          "outputs_hidden": false
        },
        "nteract": {
          "transient": {
            "deleting": false
          }
        },
        "gather": {
          "logged": 1628429024099
        }
      }
    },
    {
      "cell_type": "code",
      "source": [
        "# remove special chars\r\n",
        "def check_chars(value):\r\n",
        "    if value == \" \":\r\n",
        "        return True\r\n",
        "    else:\r\n",
        "        return value.isalpha()\r\n",
        "def remove_special_chars(value):\r\n",
        "    return ''.join(filter(check_chars, str(value)))\r\n",
        "df1['name'] = df1['name'].map(remove_special_chars)"
      ],
      "outputs": [],
      "execution_count": 44,
      "metadata": {
        "collapsed": true,
        "jupyter": {
          "source_hidden": false,
          "outputs_hidden": false
        },
        "nteract": {
          "transient": {
            "deleting": false
          }
        },
        "gather": {
          "logged": 1628429024530
        }
      }
    },
    {
      "cell_type": "code",
      "source": [
        "df2 = pd.read_csv('data/name_genres_platforms/games.csv')"
      ],
      "outputs": [],
      "execution_count": 45,
      "metadata": {
        "collapsed": true,
        "jupyter": {
          "source_hidden": false,
          "outputs_hidden": false
        },
        "nteract": {
          "transient": {
            "deleting": false
          }
        },
        "gather": {
          "logged": 1628429025659
        }
      }
    },
    {
      "cell_type": "code",
      "source": [
        "# remove special chars\r\n",
        "df2['Name'] = df2['Name'].map(remove_special_chars)"
      ],
      "outputs": [],
      "execution_count": 46,
      "metadata": {
        "collapsed": true,
        "jupyter": {
          "source_hidden": false,
          "outputs_hidden": false
        },
        "nteract": {
          "transient": {
            "deleting": false
          }
        },
        "gather": {
          "logged": 1628429025974
        }
      }
    },
    {
      "cell_type": "code",
      "source": [
        "df3 = pd.read_csv('data/name_players/SteamCharts.csv', encoding = 'unicode_escape', engine ='python')"
      ],
      "outputs": [],
      "execution_count": 47,
      "metadata": {
        "collapsed": true,
        "jupyter": {
          "source_hidden": false,
          "outputs_hidden": false
        },
        "nteract": {
          "transient": {
            "deleting": false
          }
        },
        "gather": {
          "logged": 1628429026516
        }
      }
    },
    {
      "cell_type": "code",
      "source": [
        "# average number of players for each game\r\n",
        "df3 = df3.groupby('gamename').mean().reset_index().drop([\"year\", \"gain\", \"peak\"], axis=1)"
      ],
      "outputs": [],
      "execution_count": 48,
      "metadata": {
        "collapsed": true,
        "jupyter": {
          "source_hidden": false,
          "outputs_hidden": false
        },
        "nteract": {
          "transient": {
            "deleting": false
          }
        },
        "gather": {
          "logged": 1628429026862
        }
      }
    },
    {
      "cell_type": "code",
      "source": [
        "# remove special chars from name\r\n",
        "df3['gamename'] = df3['gamename'].map(remove_special_chars)"
      ],
      "outputs": [],
      "execution_count": 49,
      "metadata": {
        "collapsed": true,
        "jupyter": {
          "source_hidden": false,
          "outputs_hidden": false
        },
        "nteract": {
          "transient": {
            "deleting": false
          }
        },
        "gather": {
          "logged": 1628429027169
        }
      }
    },
    {
      "cell_type": "code",
      "source": [
        "# remove empty name\r\n",
        "df3['gamename'].map(lambda x: x.strip())\r\n",
        "df3 = df3[df3.gamename != \"\"]"
      ],
      "outputs": [],
      "execution_count": 50,
      "metadata": {
        "collapsed": true,
        "jupyter": {
          "source_hidden": false,
          "outputs_hidden": false
        },
        "nteract": {
          "transient": {
            "deleting": false
          }
        },
        "gather": {
          "logged": 1628429027544
        }
      }
    },
    {
      "cell_type": "markdown",
      "source": [
        "### List of common title words from 40k games"
      ],
      "metadata": {
        "nteract": {
          "transient": {
            "deleting": false
          }
        }
      }
    },
    {
      "cell_type": "code",
      "source": [
        "# Generated from Generate_list_for_webapp\r\n",
        "with open('outputs/common_words.json', 'r') as myfile:\r\n",
        "    data=myfile.read()\r\n",
        "\r\n",
        "# parse file\r\n",
        "common_word_list = json.loads(data)"
      ],
      "outputs": [],
      "execution_count": 51,
      "metadata": {
        "collapsed": true,
        "jupyter": {
          "source_hidden": false,
          "outputs_hidden": false
        },
        "nteract": {
          "transient": {
            "deleting": false
          }
        },
        "gather": {
          "logged": 1628429027778
        }
      }
    },
    {
      "cell_type": "markdown",
      "source": [
        "### Dictionary of appearance count for publisher and developer"
      ],
      "metadata": {
        "nteract": {
          "transient": {
            "deleting": false
          }
        }
      }
    },
    {
      "cell_type": "code",
      "source": [
        "# read file\r\n",
        "with open('outputs/publisher_dict.json', 'r') as myfile:\r\n",
        "    data=myfile.read()\r\n",
        "\r\n",
        "# parse file\r\n",
        "publisher_dict = json.loads(data)"
      ],
      "outputs": [],
      "execution_count": 52,
      "metadata": {
        "collapsed": true,
        "jupyter": {
          "source_hidden": false,
          "outputs_hidden": false
        },
        "nteract": {
          "transient": {
            "deleting": false
          }
        },
        "gather": {
          "logged": 1628429028076
        }
      }
    },
    {
      "cell_type": "code",
      "source": [
        "# read file\r\n",
        "with open('outputs/developer_dict.json', 'r') as myfile:\r\n",
        "    data=myfile.read()\r\n",
        "\r\n",
        "# parse file\r\n",
        "developer_dict = json.loads(data)"
      ],
      "outputs": [],
      "execution_count": 53,
      "metadata": {
        "collapsed": true,
        "jupyter": {
          "source_hidden": false,
          "outputs_hidden": false
        },
        "nteract": {
          "transient": {
            "deleting": false
          }
        },
        "gather": {
          "logged": 1628429028368
        }
      }
    },
    {
      "cell_type": "code",
      "source": [
        "# replace with publisher & developer fame\r\n",
        "def replace_with_pub_val(value):\r\n",
        "    if value in publisher_dict:\r\n",
        "        return publisher_dict[value]\r\n",
        "    else:\r\n",
        "        return 0\r\n",
        "def replace_with_dev_val(value):\r\n",
        "    if value in developer_dict:\r\n",
        "        return developer_dict[value]\r\n",
        "    else:\r\n",
        "        return 0    \r\n",
        "df1['publisher'] = df1['publisher'].map(replace_with_pub_val)\r\n",
        "df1['developer'] = df1['developer'].map(replace_with_dev_val)"
      ],
      "outputs": [],
      "execution_count": 54,
      "metadata": {
        "collapsed": true,
        "jupyter": {
          "source_hidden": false,
          "outputs_hidden": false
        },
        "nteract": {
          "transient": {
            "deleting": false
          }
        },
        "gather": {
          "logged": 1628429028690
        }
      }
    },
    {
      "cell_type": "markdown",
      "source": [
        "### List of common tags"
      ],
      "metadata": {
        "nteract": {
          "transient": {
            "deleting": false
          }
        }
      }
    },
    {
      "cell_type": "code",
      "source": [
        "# read file\r\n",
        "with open('outputs/common_tags.json', 'r') as myfile:\r\n",
        "    data=myfile.read()\r\n",
        "\r\n",
        "# parse file\r\n",
        "common_tag_list = json.loads(data)"
      ],
      "outputs": [],
      "execution_count": 55,
      "metadata": {
        "collapsed": true,
        "jupyter": {
          "source_hidden": false,
          "outputs_hidden": false
        },
        "nteract": {
          "transient": {
            "deleting": false
          }
        },
        "gather": {
          "logged": 1628429028992
        }
      }
    },
    {
      "cell_type": "code",
      "source": [
        "# replace with common tag count\r\n",
        "def replace_with_tag_count(value):\r\n",
        "    words = str(value).split(',')\r\n",
        "    gcount = 0\r\n",
        "    for word in words:\r\n",
        "        if word in common_tag_list:\r\n",
        "            gcount += 1\r\n",
        "    return gcount\r\n",
        "df1['popular_tags'] = df1['popular_tags'].map(replace_with_tag_count)"
      ],
      "outputs": [],
      "execution_count": 56,
      "metadata": {
        "collapsed": true,
        "jupyter": {
          "source_hidden": false,
          "outputs_hidden": false
        },
        "nteract": {
          "transient": {
            "deleting": false
          }
        },
        "gather": {
          "logged": 1628429029341
        }
      }
    },
    {
      "cell_type": "markdown",
      "source": [
        "### Multiplayer or not"
      ],
      "metadata": {
        "nteract": {
          "transient": {
            "deleting": false
          }
        }
      }
    },
    {
      "cell_type": "code",
      "source": [
        "# replace with multiplayer value\r\n",
        "def replace_with_mult(value):\r\n",
        "    if \"Multiplayer\" in str(value):\r\n",
        "        return 1\r\n",
        "    return 0\r\n",
        "df1['game_details'] = df1['game_details'].map(replace_with_mult)"
      ],
      "outputs": [],
      "execution_count": 57,
      "metadata": {
        "collapsed": true,
        "jupyter": {
          "source_hidden": false,
          "outputs_hidden": false
        },
        "nteract": {
          "transient": {
            "deleting": false
          }
        },
        "gather": {
          "logged": 1628429029667
        }
      }
    },
    {
      "cell_type": "markdown",
      "source": [
        "### List of common genres"
      ],
      "metadata": {
        "nteract": {
          "transient": {
            "deleting": false
          }
        }
      }
    },
    {
      "cell_type": "code",
      "source": [
        "# read file\r\n",
        "with open('outputs/common_genres.json', 'r') as myfile:\r\n",
        "    data=myfile.read()\r\n",
        "\r\n",
        "# parse file\r\n",
        "common_genre_list = json.loads(data)"
      ],
      "outputs": [],
      "execution_count": 58,
      "metadata": {
        "collapsed": true,
        "jupyter": {
          "source_hidden": false,
          "outputs_hidden": false
        },
        "nteract": {
          "transient": {
            "deleting": false
          }
        },
        "gather": {
          "logged": 1628429029981
        }
      }
    },
    {
      "cell_type": "code",
      "source": [
        "# replace with common genre count\r\n",
        "def replace_with_genre_count(value):\r\n",
        "    words = str(value).split(',')\r\n",
        "    gcount = 0\r\n",
        "    for word in words:\r\n",
        "        if word in common_genre_list:\r\n",
        "            gcount += 1\r\n",
        "    return gcount\r\n",
        "df2['Genres'] = df2['Genres'].map(replace_with_genre_count)"
      ],
      "outputs": [],
      "execution_count": 59,
      "metadata": {
        "collapsed": true,
        "jupyter": {
          "source_hidden": false,
          "outputs_hidden": false
        },
        "nteract": {
          "transient": {
            "deleting": false
          }
        },
        "gather": {
          "logged": 1628429030279
        }
      }
    },
    {
      "cell_type": "markdown",
      "source": [
        "### Number of platforms supported"
      ],
      "metadata": {
        "nteract": {
          "transient": {
            "deleting": false
          }
        }
      }
    },
    {
      "cell_type": "code",
      "source": [
        "# replace with platform count\r\n",
        "def replace_with_plat_count(value):\r\n",
        "    return len(str(value).split(','))\r\n",
        "df2['Platform'] = df2['Platform'].map(replace_with_plat_count)"
      ],
      "outputs": [],
      "execution_count": 60,
      "metadata": {
        "collapsed": true,
        "jupyter": {
          "source_hidden": false,
          "outputs_hidden": false
        },
        "nteract": {
          "transient": {
            "deleting": false
          }
        },
        "gather": {
          "logged": 1628429030565
        }
      }
    },
    {
      "cell_type": "markdown",
      "source": [
        "## Create final dataset"
      ],
      "metadata": {
        "nteract": {
          "transient": {
            "deleting": false
          }
        }
      }
    },
    {
      "cell_type": "code",
      "source": [
        "# aggregate all features together into one dataset\r\n",
        "pub_list = []\r\n",
        "dev_list = []\r\n",
        "tag_list = []\r\n",
        "mult_list = []\r\n",
        "genre_list = []\r\n",
        "plat_list = []\r\n",
        "for _,row in df3.iterrows():\r\n",
        "    found = df1[df1.name == row.gamename]\r\n",
        "    if found.shape[0] > 0:\r\n",
        "        found_1 = found.iloc[[0]]\r\n",
        "        pub_list.append(found_1['publisher'].iloc[0])\r\n",
        "        dev_list.append(found_1['developer'].iloc[0])\r\n",
        "        tag_list.append(found_1['popular_tags'].iloc[0])\r\n",
        "        mult_list.append(found_1['game_details'].iloc[0])\r\n",
        "    else:\r\n",
        "        pub_list.append(-1)\r\n",
        "        dev_list.append(-1)\r\n",
        "        tag_list.append(-1)\r\n",
        "        mult_list.append(-1)\r\n",
        "\r\n",
        "    found2 = df2[df2.Name == row.gamename]\r\n",
        "    if found2.shape[0] > 0:\r\n",
        "        found_2 = found2.iloc[[0]]\r\n",
        "        genre_list.append(found2['Genres'].iloc[0])\r\n",
        "        plat_list.append(found2['Platform'].iloc[0])\r\n",
        "    else:\r\n",
        "        genre_list.append(-1)\r\n",
        "        plat_list.append(-1)\r\n",
        "maindf = df3.assign(publisher=pub_list).assign(developer=dev_list).assign(tag_common=tag_list).assign(multi=mult_list).assign(genre_common=genre_list).assign(plat_count=plat_list)"
      ],
      "outputs": [],
      "execution_count": 61,
      "metadata": {
        "collapsed": true,
        "jupyter": {
          "source_hidden": false,
          "outputs_hidden": false
        },
        "nteract": {
          "transient": {
            "deleting": false
          }
        },
        "gather": {
          "logged": 1628429033537
        }
      }
    },
    {
      "cell_type": "code",
      "source": [
        "# change name column to name_common\r\n",
        "def replace_with_name_count(value):\r\n",
        "    words = str(value).split(' ')\r\n",
        "    gcount = 0\r\n",
        "    for word in words:\r\n",
        "        if word in common_word_list:\r\n",
        "            gcount += 1\r\n",
        "    return gcount\r\n",
        "maindf['gamename'] = maindf['gamename'].map(replace_with_name_count)"
      ],
      "outputs": [],
      "execution_count": 62,
      "metadata": {
        "collapsed": true,
        "jupyter": {
          "source_hidden": false,
          "outputs_hidden": false
        },
        "nteract": {
          "transient": {
            "deleting": false
          }
        },
        "gather": {
          "logged": 1628429033850
        }
      }
    },
    {
      "cell_type": "code",
      "source": [
        "# remove rows with -1\r\n",
        "maindf = maindf[maindf.publisher >= 0]\r\n",
        "maindf = maindf[maindf.developer >= 0]\r\n",
        "maindf = maindf[maindf.tag_common >= 0]\r\n",
        "maindf = maindf[maindf.genre_common >= 0]\r\n",
        "maindf = maindf[maindf.multi >= 0]\r\n",
        "maindf = maindf[maindf.plat_count >= 0]"
      ],
      "outputs": [],
      "execution_count": 63,
      "metadata": {
        "collapsed": true,
        "jupyter": {
          "source_hidden": false,
          "outputs_hidden": false
        },
        "nteract": {
          "transient": {
            "deleting": false
          }
        },
        "gather": {
          "logged": 1628429034164
        }
      }
    },
    {
      "cell_type": "markdown",
      "source": [
        "### Deal with outliers"
      ],
      "metadata": {
        "nteract": {
          "transient": {
            "deleting": false
          }
        }
      }
    },
    {
      "cell_type": "code",
      "source": [
        "# remove no. players outliers\r\n",
        "maindf = maindf[maindf['avg'] < 50000]"
      ],
      "outputs": [],
      "execution_count": 71,
      "metadata": {
        "collapsed": true,
        "jupyter": {
          "source_hidden": false,
          "outputs_hidden": false
        },
        "nteract": {
          "transient": {
            "deleting": false
          }
        },
        "gather": {
          "logged": 1628429482466
        }
      }
    },
    {
      "cell_type": "code",
      "source": [
        "# adjust developer outlier\r\n",
        "def get_normal_pub_value(value):\r\n",
        "    if value > 1000:\r\n",
        "        return 200\r\n",
        "    return value\r\n",
        "maindf.developer = maindf.developer.map(get_normal_pub_value)"
      ],
      "outputs": [],
      "execution_count": 83,
      "metadata": {
        "collapsed": true,
        "jupyter": {
          "source_hidden": false,
          "outputs_hidden": false
        },
        "nteract": {
          "transient": {
            "deleting": false
          }
        },
        "gather": {
          "logged": 1628431698409
        }
      }
    },
    {
      "cell_type": "markdown",
      "source": [
        "## Export Main Dataset"
      ],
      "metadata": {
        "nteract": {
          "transient": {
            "deleting": false
          }
        }
      }
    },
    {
      "cell_type": "code",
      "source": [
        "maindf.to_csv('outputs/main_dataset.csv')"
      ],
      "outputs": [],
      "execution_count": 91,
      "metadata": {
        "collapsed": true,
        "jupyter": {
          "source_hidden": false,
          "outputs_hidden": false
        },
        "nteract": {
          "transient": {
            "deleting": false
          }
        },
        "gather": {
          "logged": 1628431851697
        }
      }
    }
  ],
  "metadata": {
    "kernelspec": {
      "name": "python3-azureml",
      "language": "python",
      "display_name": "Python 3.6 - AzureML"
    },
    "language_info": {
      "name": "python",
      "version": "3.6.9",
      "mimetype": "text/x-python",
      "codemirror_mode": {
        "name": "ipython",
        "version": 3
      },
      "pygments_lexer": "ipython3",
      "nbconvert_exporter": "python",
      "file_extension": ".py"
    },
    "kernel_info": {
      "name": "python3-azureml"
    },
    "microsoft": {
      "host": {
        "AzureML": {
          "notebookHasBeenCompleted": true
        }
      }
    },
    "nteract": {
      "version": "nteract-front-end@1.0.0"
    }
  },
  "nbformat": 4,
  "nbformat_minor": 2
}