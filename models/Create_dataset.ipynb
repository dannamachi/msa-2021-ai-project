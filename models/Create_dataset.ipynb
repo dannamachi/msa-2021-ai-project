{
  "cells": [
    {
      "cell_type": "markdown",
      "source": [
        "# Creation of Main Dataset\r\n",
        "## Features:\r\n",
        "* No. common title words matched\r\n",
        "* Fame of publisher\r\n",
        "* Fame of developer\r\n",
        "* Number of platforms supported\r\n",
        "* Multiplayer or not\r\n",
        "* No. common genres matched\r\n",
        "* No. common tags matched\r\n",
        "## Predicting:\r\n",
        "* Average number of concurrent players"
      ],
      "metadata": {
        "nteract": {
          "transient": {
            "deleting": false
          }
        }
      }
    },
    {
      "cell_type": "code",
      "source": [
        "import pandas as pd\r\n",
        "import numpy as np\r\n",
        "import matplotlib as plt"
      ],
      "outputs": [],
      "execution_count": 1,
      "metadata": {
        "gather": {
          "logged": 1628343770585
        }
      }
    },
    {
      "cell_type": "markdown",
      "source": [
        "### List of common title words from 40k games"
      ],
      "metadata": {
        "nteract": {
          "transient": {
            "deleting": false
          }
        }
      }
    },
    {
      "cell_type": "code",
      "source": [
        "TITLE_COMMON_THRESHOLD = 40"
      ],
      "outputs": [],
      "execution_count": 2,
      "metadata": {
        "collapsed": true,
        "jupyter": {
          "source_hidden": false,
          "outputs_hidden": false
        },
        "nteract": {
          "transient": {
            "deleting": false
          }
        },
        "gather": {
          "logged": 1628343770767
        }
      }
    },
    {
      "cell_type": "code",
      "source": [
        "df1 = pd.read_csv('data/name_developer_publisher_tags/steam_games.csv')"
      ],
      "outputs": [],
      "execution_count": 3,
      "metadata": {
        "collapsed": true,
        "jupyter": {
          "source_hidden": false,
          "outputs_hidden": false
        },
        "nteract": {
          "transient": {
            "deleting": false
          }
        },
        "gather": {
          "logged": 1628343773637
        }
      }
    },
    {
      "cell_type": "code",
      "source": [
        "# remove special chars\r\n",
        "def check_chars(value):\r\n",
        "    if value == \" \":\r\n",
        "        return True\r\n",
        "    else:\r\n",
        "        return value.isalpha()\r\n",
        "def remove_special_chars(value):\r\n",
        "    return ''.join(filter(check_chars, str(value)))\r\n",
        "df1['name'] = df1['name'].map(remove_special_chars)"
      ],
      "outputs": [],
      "execution_count": 4,
      "metadata": {
        "collapsed": true,
        "jupyter": {
          "source_hidden": false,
          "outputs_hidden": false
        },
        "nteract": {
          "transient": {
            "deleting": false
          }
        },
        "gather": {
          "logged": 1628343774038
        }
      }
    },
    {
      "cell_type": "code",
      "source": [
        "# create common title word dict\r\n",
        "title_word_dict = {}\r\n",
        "def create_word_dict(value):\r\n",
        "    words = value.split(' ')\r\n",
        "    for word in words:\r\n",
        "        if word not in title_word_dict:\r\n",
        "            title_word_dict[word] = 1\r\n",
        "        else:\r\n",
        "            title_word_dict[word] += 1\r\n",
        "df1['name'].map(create_word_dict)\r\n",
        "common_word_list = []\r\n",
        "for name in title_word_dict:\r\n",
        "    if title_word_dict[name] > TITLE_COMMON_THRESHOLD:\r\n",
        "        common_word_list.append(name)"
      ],
      "outputs": [],
      "execution_count": 5,
      "metadata": {
        "collapsed": true,
        "jupyter": {
          "source_hidden": false,
          "outputs_hidden": false
        },
        "nteract": {
          "transient": {
            "deleting": false
          }
        },
        "gather": {
          "logged": 1628343774335
        }
      }
    },
    {
      "cell_type": "markdown",
      "source": [
        "### Publisher & developer fame"
      ],
      "metadata": {
        "nteract": {
          "transient": {
            "deleting": false
          }
        }
      }
    },
    {
      "cell_type": "code",
      "source": [
        "# add dict of publisher & developer appearance count\r\n",
        "publisher_dict = {}\r\n",
        "developer_dict = {}\r\n",
        "def create_pub_dict(value):\r\n",
        "    if value not in publisher_dict:\r\n",
        "        publisher_dict[value] = 1\r\n",
        "    else:\r\n",
        "        publisher_dict[value] += 1\r\n",
        "def create_dev_dict(value):\r\n",
        "    if value not in developer_dict:\r\n",
        "        developer_dict[value] = 1\r\n",
        "    else:\r\n",
        "        developer_dict[value] += 1\r\n",
        "df1['publisher'].map(create_pub_dict)\r\n",
        "df1['developer'].map(create_dev_dict)\r\n",
        "print('done')"
      ],
      "outputs": [
        {
          "output_type": "stream",
          "name": "stdout",
          "text": [
            "done\n"
          ]
        }
      ],
      "execution_count": 6,
      "metadata": {
        "collapsed": true,
        "jupyter": {
          "source_hidden": false,
          "outputs_hidden": false
        },
        "nteract": {
          "transient": {
            "deleting": false
          }
        },
        "gather": {
          "logged": 1628343774665
        }
      }
    },
    {
      "cell_type": "code",
      "source": [
        "# replace with publisher & developer fame\r\n",
        "def replace_with_pub_val(value):\r\n",
        "    if value in publisher_dict:\r\n",
        "        return publisher_dict[value]\r\n",
        "    else:\r\n",
        "        return 0\r\n",
        "def replace_with_dev_val(value):\r\n",
        "    if value in developer_dict:\r\n",
        "        return developer_dict[value]\r\n",
        "    else:\r\n",
        "        return 0    \r\n",
        "df1['publisher'] = df1['publisher'].map(replace_with_pub_val)\r\n",
        "df1['developer'] = df1['developer'].map(replace_with_dev_val)"
      ],
      "outputs": [],
      "execution_count": 7,
      "metadata": {
        "collapsed": true,
        "jupyter": {
          "source_hidden": false,
          "outputs_hidden": false
        },
        "nteract": {
          "transient": {
            "deleting": false
          }
        },
        "gather": {
          "logged": 1628343774957
        }
      }
    },
    {
      "cell_type": "markdown",
      "source": [
        "### List of common tags"
      ],
      "metadata": {
        "nteract": {
          "transient": {
            "deleting": false
          }
        }
      }
    },
    {
      "cell_type": "code",
      "source": [
        "TAG_THRESHOLD = 40"
      ],
      "outputs": [],
      "execution_count": 8,
      "metadata": {
        "collapsed": true,
        "jupyter": {
          "source_hidden": false,
          "outputs_hidden": false
        },
        "nteract": {
          "transient": {
            "deleting": false
          }
        },
        "gather": {
          "logged": 1628343775299
        }
      }
    },
    {
      "cell_type": "code",
      "source": [
        "# create common tag dict\r\n",
        "tag_dict = {}\r\n",
        "def create_tag_dict(value):\r\n",
        "    words = str(value).split(',')\r\n",
        "    for word in words:\r\n",
        "        if word not in tag_dict:\r\n",
        "            tag_dict[word] = 1\r\n",
        "        else:\r\n",
        "            tag_dict[word] += 1\r\n",
        "df1['popular_tags'].map(create_tag_dict)\r\n",
        "common_tag_list = []\r\n",
        "for name in tag_dict:\r\n",
        "    if tag_dict[name] > TAG_THRESHOLD:\r\n",
        "        common_tag_list.append(name)"
      ],
      "outputs": [],
      "execution_count": 9,
      "metadata": {
        "collapsed": true,
        "jupyter": {
          "source_hidden": false,
          "outputs_hidden": false
        },
        "nteract": {
          "transient": {
            "deleting": false
          }
        },
        "gather": {
          "logged": 1628343775613
        }
      }
    },
    {
      "cell_type": "code",
      "source": [
        "# replace with common tag count\r\n",
        "def replace_with_tag_count(value):\r\n",
        "    words = str(value).split(',')\r\n",
        "    gcount = 0\r\n",
        "    for word in words:\r\n",
        "        if word in common_tag_list:\r\n",
        "            gcount += 1\r\n",
        "    return gcount\r\n",
        "df1['popular_tags'] = df1['popular_tags'].map(replace_with_tag_count)"
      ],
      "outputs": [],
      "execution_count": 10,
      "metadata": {
        "collapsed": true,
        "jupyter": {
          "source_hidden": false,
          "outputs_hidden": false
        },
        "nteract": {
          "transient": {
            "deleting": false
          }
        },
        "gather": {
          "logged": 1628343775950
        }
      }
    },
    {
      "cell_type": "markdown",
      "source": [
        "### Multiplayer or not"
      ],
      "metadata": {
        "nteract": {
          "transient": {
            "deleting": false
          }
        }
      }
    },
    {
      "cell_type": "code",
      "source": [
        "# replace with multiplayer value\r\n",
        "def replace_with_mult(value):\r\n",
        "    if \"Multiplayer\" in str(value):\r\n",
        "        return 1\r\n",
        "    return 0\r\n",
        "df1['game_details'] = df1['game_details'].map(replace_with_mult)"
      ],
      "outputs": [],
      "execution_count": 11,
      "metadata": {
        "collapsed": true,
        "jupyter": {
          "source_hidden": false,
          "outputs_hidden": false
        },
        "nteract": {
          "transient": {
            "deleting": false
          }
        },
        "gather": {
          "logged": 1628343776287
        }
      }
    },
    {
      "cell_type": "markdown",
      "source": [
        "### List of common genres"
      ],
      "metadata": {
        "nteract": {
          "transient": {
            "deleting": false
          }
        }
      }
    },
    {
      "cell_type": "code",
      "source": [
        "GENRE_THRESHOLD = 10"
      ],
      "outputs": [],
      "execution_count": 12,
      "metadata": {
        "collapsed": true,
        "jupyter": {
          "source_hidden": false,
          "outputs_hidden": false
        },
        "nteract": {
          "transient": {
            "deleting": false
          }
        },
        "gather": {
          "logged": 1628343776574
        }
      }
    },
    {
      "cell_type": "code",
      "source": [
        "df2 = pd.read_csv('data/name_genres_platforms/games.csv')"
      ],
      "outputs": [],
      "execution_count": 13,
      "metadata": {
        "collapsed": true,
        "jupyter": {
          "source_hidden": false,
          "outputs_hidden": false
        },
        "nteract": {
          "transient": {
            "deleting": false
          }
        },
        "gather": {
          "logged": 1628343776913
        }
      }
    },
    {
      "cell_type": "code",
      "source": [
        "# remove special chars\r\n",
        "df2['Name'] = df2['Name'].map(remove_special_chars)"
      ],
      "outputs": [],
      "execution_count": 14,
      "metadata": {
        "collapsed": true,
        "jupyter": {
          "source_hidden": false,
          "outputs_hidden": false
        },
        "nteract": {
          "transient": {
            "deleting": false
          }
        },
        "gather": {
          "logged": 1628343777287
        }
      }
    },
    {
      "cell_type": "code",
      "source": [
        "# create common genre dict\r\n",
        "genre_dict = {}\r\n",
        "def create_genre_dict(value):\r\n",
        "    words = str(value).split(',')\r\n",
        "    for word in words:\r\n",
        "        if word not in genre_dict:\r\n",
        "            genre_dict[word] = 1\r\n",
        "        else:\r\n",
        "            genre_dict[word] += 1\r\n",
        "df2['Genres'].map(create_genre_dict)\r\n",
        "common_genre_list = []\r\n",
        "for name in genre_dict:\r\n",
        "    if genre_dict[name] > GENRE_THRESHOLD:\r\n",
        "        common_genre_list.append(name)"
      ],
      "outputs": [],
      "execution_count": 15,
      "metadata": {
        "collapsed": true,
        "jupyter": {
          "source_hidden": false,
          "outputs_hidden": false
        },
        "nteract": {
          "transient": {
            "deleting": false
          }
        },
        "gather": {
          "logged": 1628343777688
        }
      }
    },
    {
      "cell_type": "code",
      "source": [
        "# replace with common genre count\r\n",
        "def replace_with_genre_count(value):\r\n",
        "    words = str(value).split(',')\r\n",
        "    gcount = 0\r\n",
        "    for word in words:\r\n",
        "        if word in common_genre_list:\r\n",
        "            gcount += 1\r\n",
        "    return gcount\r\n",
        "df2['Genres'] = df2['Genres'].map(replace_with_genre_count)"
      ],
      "outputs": [],
      "execution_count": 16,
      "metadata": {
        "collapsed": true,
        "jupyter": {
          "source_hidden": false,
          "outputs_hidden": false
        },
        "nteract": {
          "transient": {
            "deleting": false
          }
        },
        "gather": {
          "logged": 1628343777983
        }
      }
    },
    {
      "cell_type": "markdown",
      "source": [
        "### Number of platform supported"
      ],
      "metadata": {
        "nteract": {
          "transient": {
            "deleting": false
          }
        }
      }
    },
    {
      "cell_type": "code",
      "source": [
        "# replace with platform count\r\n",
        "def replace_with_plat_count(value):\r\n",
        "    return len(str(value).split(','))\r\n",
        "df2['Platform'] = df2['Platform'].map(replace_with_plat_count)"
      ],
      "outputs": [],
      "execution_count": 17,
      "metadata": {
        "collapsed": true,
        "jupyter": {
          "source_hidden": false,
          "outputs_hidden": false
        },
        "nteract": {
          "transient": {
            "deleting": false
          }
        },
        "gather": {
          "logged": 1628343778230
        }
      }
    },
    {
      "cell_type": "markdown",
      "source": [
        "### Average number of concurrent players"
      ],
      "metadata": {
        "nteract": {
          "transient": {
            "deleting": false
          }
        }
      }
    },
    {
      "cell_type": "code",
      "source": [
        "df3 = pd.read_csv('data/name_players/SteamCharts.csv', encoding = 'unicode_escape', engine ='python')"
      ],
      "outputs": [],
      "execution_count": 18,
      "metadata": {
        "collapsed": true,
        "jupyter": {
          "source_hidden": false,
          "outputs_hidden": false
        },
        "nteract": {
          "transient": {
            "deleting": false
          }
        },
        "gather": {
          "logged": 1628343778864
        }
      }
    },
    {
      "cell_type": "code",
      "source": [
        "df3 = df3.groupby('gamename').mean().reset_index().drop([\"year\", \"gain\", \"peak\"], axis=1)"
      ],
      "outputs": [],
      "execution_count": 19,
      "metadata": {
        "collapsed": true,
        "jupyter": {
          "source_hidden": false,
          "outputs_hidden": false
        },
        "nteract": {
          "transient": {
            "deleting": false
          }
        },
        "gather": {
          "logged": 1628343779081
        }
      }
    },
    {
      "cell_type": "code",
      "source": [
        "# remove special chars from name\r\n",
        "df3['gamename'] = df3['gamename'].map(remove_special_chars)"
      ],
      "outputs": [],
      "execution_count": 20,
      "metadata": {
        "collapsed": true,
        "jupyter": {
          "source_hidden": false,
          "outputs_hidden": false
        },
        "nteract": {
          "transient": {
            "deleting": false
          }
        },
        "gather": {
          "logged": 1628343779359
        }
      }
    },
    {
      "cell_type": "code",
      "source": [
        "# remove empty name\r\n",
        "df3['gamename'].map(lambda x: x.strip())\r\n",
        "df3 = df3[df3.gamename != \"\"]"
      ],
      "outputs": [],
      "execution_count": 21,
      "metadata": {
        "collapsed": true,
        "jupyter": {
          "source_hidden": false,
          "outputs_hidden": false
        },
        "nteract": {
          "transient": {
            "deleting": false
          }
        },
        "gather": {
          "logged": 1628343779618
        }
      }
    },
    {
      "cell_type": "markdown",
      "source": [
        "### Add features"
      ],
      "metadata": {
        "nteract": {
          "transient": {
            "deleting": false
          }
        }
      }
    },
    {
      "cell_type": "code",
      "source": [
        "# aggregate all features together into one dataset\r\n",
        "pub_list = []\r\n",
        "dev_list = []\r\n",
        "tag_list = []\r\n",
        "mult_list = []\r\n",
        "genre_list = []\r\n",
        "plat_list = []\r\n",
        "for _,row in df3.iterrows():\r\n",
        "    found = df1[df1.name == row.gamename]\r\n",
        "    if found.shape[0] > 0:\r\n",
        "        found_1 = found.iloc[[0]]\r\n",
        "        pub_list.append(found_1['publisher'].iloc[0])\r\n",
        "        dev_list.append(found_1['developer'].iloc[0])\r\n",
        "        tag_list.append(found_1['popular_tags'].iloc[0])\r\n",
        "        mult_list.append(found_1['game_details'].iloc[0])\r\n",
        "    else:\r\n",
        "        pub_list.append(-1)\r\n",
        "        dev_list.append(-1)\r\n",
        "        tag_list.append(-1)\r\n",
        "        mult_list.append(-1)\r\n",
        "\r\n",
        "    found2 = df2[df2.Name == row.gamename]\r\n",
        "    if found2.shape[0] > 0:\r\n",
        "        found_2 = found2.iloc[[0]]\r\n",
        "        genre_list.append(found2['Genres'].iloc[0])\r\n",
        "        plat_list.append(found2['Platform'].iloc[0])\r\n",
        "    else:\r\n",
        "        genre_list.append(-1)\r\n",
        "        plat_list.append(-1)\r\n",
        "maindf = df3.assign(publisher=pub_list).assign(developer=dev_list).assign(tag_common=tag_list).assign(multi=mult_list).assign(genre_common=genre_list).assign(plat_count=plat_list)\r\n",
        "maindf.head()"
      ],
      "outputs": [
        {
          "output_type": "execute_result",
          "execution_count": 22,
          "data": {
            "text/plain": "           gamename          avg  publisher  developer  tag_common  multi  \\\n0      Orange Juice   203.529286         37         21          20      0   \n1   is Better Than     25.405938         -1         -1          -1     -1   \n3           Seconds    71.822714          2          3          20      0   \n4       Days to Die  9405.545172          1          1          20      1   \n5          Operator   114.976182          8          7          20      0   \n\n   genre_common  plat_count  \n0             2           1  \n1             2           4  \n3             5           3  \n4             7           5  \n5             3           2  ",
            "text/html": "<div>\n<style scoped>\n    .dataframe tbody tr th:only-of-type {\n        vertical-align: middle;\n    }\n\n    .dataframe tbody tr th {\n        vertical-align: top;\n    }\n\n    .dataframe thead th {\n        text-align: right;\n    }\n</style>\n<table border=\"1\" class=\"dataframe\">\n  <thead>\n    <tr style=\"text-align: right;\">\n      <th></th>\n      <th>gamename</th>\n      <th>avg</th>\n      <th>publisher</th>\n      <th>developer</th>\n      <th>tag_common</th>\n      <th>multi</th>\n      <th>genre_common</th>\n      <th>plat_count</th>\n    </tr>\n  </thead>\n  <tbody>\n    <tr>\n      <th>0</th>\n      <td>Orange Juice</td>\n      <td>203.529286</td>\n      <td>37</td>\n      <td>21</td>\n      <td>20</td>\n      <td>0</td>\n      <td>2</td>\n      <td>1</td>\n    </tr>\n    <tr>\n      <th>1</th>\n      <td>is Better Than</td>\n      <td>25.405938</td>\n      <td>-1</td>\n      <td>-1</td>\n      <td>-1</td>\n      <td>-1</td>\n      <td>2</td>\n      <td>4</td>\n    </tr>\n    <tr>\n      <th>3</th>\n      <td>Seconds</td>\n      <td>71.822714</td>\n      <td>2</td>\n      <td>3</td>\n      <td>20</td>\n      <td>0</td>\n      <td>5</td>\n      <td>3</td>\n    </tr>\n    <tr>\n      <th>4</th>\n      <td>Days to Die</td>\n      <td>9405.545172</td>\n      <td>1</td>\n      <td>1</td>\n      <td>20</td>\n      <td>1</td>\n      <td>7</td>\n      <td>5</td>\n    </tr>\n    <tr>\n      <th>5</th>\n      <td>Operator</td>\n      <td>114.976182</td>\n      <td>8</td>\n      <td>7</td>\n      <td>20</td>\n      <td>0</td>\n      <td>3</td>\n      <td>2</td>\n    </tr>\n  </tbody>\n</table>\n</div>"
          },
          "metadata": {}
        }
      ],
      "execution_count": 22,
      "metadata": {
        "collapsed": true,
        "jupyter": {
          "source_hidden": false,
          "outputs_hidden": false
        },
        "nteract": {
          "transient": {
            "deleting": false
          }
        },
        "gather": {
          "logged": 1628343784710
        }
      }
    },
    {
      "cell_type": "code",
      "source": [
        "# change name column to name_common\r\n",
        "def replace_with_name_count(value):\r\n",
        "    words = str(value).split(',')\r\n",
        "    gcount = 0\r\n",
        "    for word in words:\r\n",
        "        if word in common_word_list:\r\n",
        "            gcount += 1\r\n",
        "    return gcount\r\n",
        "maindf['gamename'] = maindf['gamename'].map(replace_with_name_count)"
      ],
      "outputs": [],
      "execution_count": 23,
      "metadata": {
        "collapsed": true,
        "jupyter": {
          "source_hidden": false,
          "outputs_hidden": false
        },
        "nteract": {
          "transient": {
            "deleting": false
          }
        },
        "gather": {
          "logged": 1628343785094
        }
      }
    },
    {
      "cell_type": "code",
      "source": [
        "# remove rows with -1\r\n",
        "maindf = maindf[maindf.publisher >= 0]\r\n",
        "maindf = maindf[maindf.developer >= 0]\r\n",
        "maindf = maindf[maindf.tag_common >= 0]\r\n",
        "maindf = maindf[maindf.genre_common >= 0]\r\n",
        "maindf = maindf[maindf.multi >= 0]\r\n",
        "maindf = maindf[maindf.plat_count >= 0]\r\n",
        "maindf.head()"
      ],
      "outputs": [
        {
          "output_type": "execute_result",
          "execution_count": 28,
          "data": {
            "text/plain": "    gamename          avg  publisher  developer  tag_common  multi  \\\n0          0   203.529286         37         21          20      0   \n3          0    71.822714          2          3          20      0   \n4          0  9405.545172          1          1          20      1   \n5          0   114.976182          8          7          20      0   \n15         0   273.227833          4          5          20      0   \n\n    genre_common  plat_count  \n0              2           1  \n3              5           3  \n4              7           5  \n5              3           2  \n15             2           6  ",
            "text/html": "<div>\n<style scoped>\n    .dataframe tbody tr th:only-of-type {\n        vertical-align: middle;\n    }\n\n    .dataframe tbody tr th {\n        vertical-align: top;\n    }\n\n    .dataframe thead th {\n        text-align: right;\n    }\n</style>\n<table border=\"1\" class=\"dataframe\">\n  <thead>\n    <tr style=\"text-align: right;\">\n      <th></th>\n      <th>gamename</th>\n      <th>avg</th>\n      <th>publisher</th>\n      <th>developer</th>\n      <th>tag_common</th>\n      <th>multi</th>\n      <th>genre_common</th>\n      <th>plat_count</th>\n    </tr>\n  </thead>\n  <tbody>\n    <tr>\n      <th>0</th>\n      <td>0</td>\n      <td>203.529286</td>\n      <td>37</td>\n      <td>21</td>\n      <td>20</td>\n      <td>0</td>\n      <td>2</td>\n      <td>1</td>\n    </tr>\n    <tr>\n      <th>3</th>\n      <td>0</td>\n      <td>71.822714</td>\n      <td>2</td>\n      <td>3</td>\n      <td>20</td>\n      <td>0</td>\n      <td>5</td>\n      <td>3</td>\n    </tr>\n    <tr>\n      <th>4</th>\n      <td>0</td>\n      <td>9405.545172</td>\n      <td>1</td>\n      <td>1</td>\n      <td>20</td>\n      <td>1</td>\n      <td>7</td>\n      <td>5</td>\n    </tr>\n    <tr>\n      <th>5</th>\n      <td>0</td>\n      <td>114.976182</td>\n      <td>8</td>\n      <td>7</td>\n      <td>20</td>\n      <td>0</td>\n      <td>3</td>\n      <td>2</td>\n    </tr>\n    <tr>\n      <th>15</th>\n      <td>0</td>\n      <td>273.227833</td>\n      <td>4</td>\n      <td>5</td>\n      <td>20</td>\n      <td>0</td>\n      <td>2</td>\n      <td>6</td>\n    </tr>\n  </tbody>\n</table>\n</div>"
          },
          "metadata": {}
        }
      ],
      "execution_count": 28,
      "metadata": {
        "collapsed": true,
        "jupyter": {
          "source_hidden": false,
          "outputs_hidden": false
        },
        "nteract": {
          "transient": {
            "deleting": false
          }
        },
        "gather": {
          "logged": 1628344043859
        }
      }
    },
    {
      "cell_type": "markdown",
      "source": [
        "## Export Main Dataset"
      ],
      "metadata": {
        "nteract": {
          "transient": {
            "deleting": false
          }
        }
      }
    },
    {
      "cell_type": "code",
      "source": [
        "maindf.to_csv('data/main_dataset.csv')"
      ],
      "outputs": [],
      "execution_count": 29,
      "metadata": {
        "collapsed": true,
        "jupyter": {
          "source_hidden": false,
          "outputs_hidden": false
        },
        "nteract": {
          "transient": {
            "deleting": false
          }
        },
        "gather": {
          "logged": 1628344048419
        }
      }
    },
    {
      "cell_type": "code",
      "source": [],
      "outputs": [],
      "execution_count": null,
      "metadata": {
        "collapsed": true,
        "jupyter": {
          "source_hidden": false,
          "outputs_hidden": false
        },
        "nteract": {
          "transient": {
            "deleting": false
          }
        }
      }
    }
  ],
  "metadata": {
    "kernelspec": {
      "name": "python3-azureml",
      "language": "python",
      "display_name": "Python 3.6 - AzureML"
    },
    "language_info": {
      "name": "python",
      "version": "3.6.9",
      "mimetype": "text/x-python",
      "codemirror_mode": {
        "name": "ipython",
        "version": 3
      },
      "pygments_lexer": "ipython3",
      "nbconvert_exporter": "python",
      "file_extension": ".py"
    },
    "kernel_info": {
      "name": "python3-azureml"
    },
    "microsoft": {
      "host": {
        "AzureML": {
          "notebookHasBeenCompleted": true
        }
      }
    },
    "nteract": {
      "version": "nteract-front-end@1.0.0"
    }
  },
  "nbformat": 4,
  "nbformat_minor": 2
}